{
 "cells": [
  {
   "cell_type": "code",
   "execution_count": 3,
   "id": "spatial-hampton",
   "metadata": {},
   "outputs": [],
   "source": [
    "# TensorFlow and tf.keras\n",
    "import tensorflow as tf\n",
    "from tensorflow import keras\n",
    "\n",
    "# Helper libraries\n",
    "import numpy as np\n",
    "import matplotlib.pyplot as plt\n",
    "\n",
    "import tensorflow_datasets as tfds"
   ]
  },
  {
   "cell_type": "code",
   "execution_count": 4,
   "id": "lined-inventory",
   "metadata": {},
   "outputs": [
    {
     "data": {
      "text/plain": [
       "[PhysicalDevice(name='/physical_device:GPU:0', device_type='GPU')]"
      ]
     },
     "execution_count": 4,
     "metadata": {},
     "output_type": "execute_result"
    }
   ],
   "source": [
    "# Tensorflow가 활용할 GPU가 장착되어 있는지 확인해 봅니다.\n",
    "tf.config.list_physical_devices('GPU')"
   ]
  },
  {
   "cell_type": "markdown",
   "id": "therapeutic-sheet",
   "metadata": {},
   "source": [
    "데이터셋 로딩하기 (Cifar-10)"
   ]
  },
  {
   "cell_type": "code",
   "execution_count": 3,
   "id": "fewer-participation",
   "metadata": {},
   "outputs": [
    {
     "name": "stdout",
     "output_type": "stream",
     "text": [
      "\u001b[1mDownloading and preparing dataset 162.17 MiB (download: 162.17 MiB, generated: 132.40 MiB, total: 294.58 MiB) to /aiffel/tensorflow_datasets/cifar10/3.0.2...\u001b[0m\n"
     ]
    },
    {
     "data": {
      "application/vnd.jupyter.widget-view+json": {
       "model_id": "0b8ceb8859d8487d8ee6e6bc60d15289",
       "version_major": 2,
       "version_minor": 0
      },
      "text/plain": [
       "Dl Completed...: 0 url [00:00, ? url/s]"
      ]
     },
     "metadata": {},
     "output_type": "display_data"
    },
    {
     "data": {
      "application/vnd.jupyter.widget-view+json": {
       "model_id": "f8fd9a0fb69e4e6184a03dcc0ffc3f4b",
       "version_major": 2,
       "version_minor": 0
      },
      "text/plain": [
       "Dl Size...: 0 MiB [00:00, ? MiB/s]"
      ]
     },
     "metadata": {},
     "output_type": "display_data"
    },
    {
     "data": {
      "application/vnd.jupyter.widget-view+json": {
       "model_id": "dd90a7440e34429bb41f85704d7e0a8f",
       "version_major": 2,
       "version_minor": 0
      },
      "text/plain": [
       "Extraction completed...: 0 file [00:00, ? file/s]"
      ]
     },
     "metadata": {},
     "output_type": "display_data"
    },
    {
     "name": "stdout",
     "output_type": "stream",
     "text": [
      "\n",
      "\n",
      "\n"
     ]
    },
    {
     "data": {
      "application/vnd.jupyter.widget-view+json": {
       "model_id": "",
       "version_major": 2,
       "version_minor": 0
      },
      "text/plain": [
       "Generating splits...:   0%|          | 0/2 [00:00<?, ? splits/s]"
      ]
     },
     "metadata": {},
     "output_type": "display_data"
    },
    {
     "data": {
      "application/vnd.jupyter.widget-view+json": {
       "model_id": "",
       "version_major": 2,
       "version_minor": 0
      },
      "text/plain": [
       "Generating train examples...:   0%|          | 0/50000 [00:00<?, ? examples/s]"
      ]
     },
     "metadata": {},
     "output_type": "display_data"
    },
    {
     "data": {
      "application/vnd.jupyter.widget-view+json": {
       "model_id": "",
       "version_major": 2,
       "version_minor": 0
      },
      "text/plain": [
       "Shuffling cifar10-train.tfrecord...:   0%|          | 0/50000 [00:00<?, ? examples/s]"
      ]
     },
     "metadata": {},
     "output_type": "display_data"
    },
    {
     "data": {
      "application/vnd.jupyter.widget-view+json": {
       "model_id": "",
       "version_major": 2,
       "version_minor": 0
      },
      "text/plain": [
       "Generating test examples...:   0%|          | 0/10000 [00:00<?, ? examples/s]"
      ]
     },
     "metadata": {},
     "output_type": "display_data"
    },
    {
     "data": {
      "application/vnd.jupyter.widget-view+json": {
       "model_id": "",
       "version_major": 2,
       "version_minor": 0
      },
      "text/plain": [
       "Shuffling cifar10-test.tfrecord...:   0%|          | 0/10000 [00:00<?, ? examples/s]"
      ]
     },
     "metadata": {},
     "output_type": "display_data"
    },
    {
     "name": "stdout",
     "output_type": "stream",
     "text": [
      "\u001b[1mDataset cifar10 downloaded and prepared to /aiffel/tensorflow_datasets/cifar10/3.0.2. Subsequent calls will reuse this data.\u001b[0m\n"
     ]
    }
   ],
   "source": [
    "import urllib3\n",
    "urllib3.disable_warnings()\n",
    "\n",
    "#tfds.disable_progress_bar()   # 이 주석을 풀면 데이터셋 다운로드과정의 프로그레스바가 나타나지 않습니다.\n",
    "\n",
    "(ds_train, ds_test), ds_info = tfds.load(\n",
    "    'cifar10',\n",
    "    split=['train', 'test'],\n",
    "    shuffle_files=True,\n",
    "    with_info=True,\n",
    ")"
   ]
  },
  {
   "cell_type": "code",
   "execution_count": 4,
   "id": "attached-baseball",
   "metadata": {},
   "outputs": [
    {
     "name": "stdout",
     "output_type": "stream",
     "text": [
      "FeaturesDict({\n",
      "    'id': Text(shape=(), dtype=tf.string),\n",
      "    'image': Image(shape=(32, 32, 3), dtype=tf.uint8),\n",
      "    'label': ClassLabel(shape=(), dtype=tf.int64, num_classes=10),\n",
      "})\n"
     ]
    }
   ],
   "source": [
    "# Tensorflow 데이터셋을 로드하면 꼭 feature 정보를 확인해 보세요. \n",
    "print(ds_info.features)"
   ]
  },
  {
   "cell_type": "code",
   "execution_count": 5,
   "id": "protecting-alliance",
   "metadata": {},
   "outputs": [
    {
     "name": "stdout",
     "output_type": "stream",
     "text": [
      "tf.Tensor(50000, shape=(), dtype=int64)\n",
      "tf.Tensor(10000, shape=(), dtype=int64)\n"
     ]
    }
   ],
   "source": [
    "# 데이터의 개수도 확인해 봅시다. \n",
    "print(tf.data.experimental.cardinality(ds_train))\n",
    "print(tf.data.experimental.cardinality(ds_test))"
   ]
  },
  {
   "cell_type": "code",
   "execution_count": 6,
   "id": "color-compact",
   "metadata": {},
   "outputs": [],
   "source": [
    "def normalize_and_resize_img(image, label):\n",
    "    \"\"\"Normalizes images: `uint8` -> `float32`.\"\"\"\n",
    "    # image = tf.image.resize(image, [32, 32])\n",
    "    return tf.cast(image, tf.float32) / 255., label"
   ]
  },
  {
   "cell_type": "code",
   "execution_count": 7,
   "id": "challenging-liberal",
   "metadata": {},
   "outputs": [],
   "source": [
    "def apply_normalize_on_dataset(ds, is_test=False, batch_size=16):\n",
    "    ds = ds.map(\n",
    "        normalize_and_resize_img, \n",
    "        num_parallel_calls=1\n",
    "    )\n",
    "    ds = ds.batch(batch_size)\n",
    "    if not is_test:\n",
    "        ds = ds.repeat()\n",
    "        ds = ds.shuffle(200)\n",
    "    ds = ds.prefetch(tf.data.experimental.AUTOTUNE)\n",
    "    return ds"
   ]
  },
  {
   "cell_type": "code",
   "execution_count": 8,
   "id": "quality-silly",
   "metadata": {
    "scrolled": true
   },
   "outputs": [
    {
     "data": {
      "text/plain": [
       "10"
      ]
     },
     "execution_count": 8,
     "metadata": {},
     "output_type": "execute_result"
    }
   ],
   "source": [
    "ds_info.features[\"label\"].num_classes"
   ]
  },
  {
   "cell_type": "code",
   "execution_count": 9,
   "id": "junior-russian",
   "metadata": {},
   "outputs": [
    {
     "data": {
      "text/plain": [
       "['airplane',\n",
       " 'automobile',\n",
       " 'bird',\n",
       " 'cat',\n",
       " 'deer',\n",
       " 'dog',\n",
       " 'frog',\n",
       " 'horse',\n",
       " 'ship',\n",
       " 'truck']"
      ]
     },
     "execution_count": 9,
     "metadata": {},
     "output_type": "execute_result"
    }
   ],
   "source": [
    "ds_info.features[\"label\"].names"
   ]
  },
  {
   "cell_type": "code",
   "execution_count": 10,
   "id": "arctic-investment",
   "metadata": {},
   "outputs": [
    {
     "data": {
      "image/png": "[encoded data removed]",
      "text/plain": [
       "<Figure size 648x648 with 9 Axes>"
      ]
     },
     "metadata": {},
     "output_type": "display_data"
    }
   ],
   "source": [
    "fig = tfds.show_examples(ds_train, ds_info)"
   ]
  },
  {
   "cell_type": "code",
   "execution_count": 11,
   "id": "welcome-hudson",
   "metadata": {},
   "outputs": [
    {
     "data": {
      "image/png": "[encoded data removed]",
      "text/plain": [
       "<Figure size 648x648 with 9 Axes>"
      ]
     },
     "metadata": {},
     "output_type": "display_data"
    }
   ],
   "source": [
    "fig = tfds.show_examples(ds_test, ds_info)"
   ]
  },
  {
   "cell_type": "markdown",
   "id": "biblical-cooperation",
   "metadata": {},
   "source": [
    "2-4. Ablation Study 실습 (2) 블록 구성하기\n"
   ]
  },
  {
   "cell_type": "code",
   "execution_count": 7,
   "id": "married-blame",
   "metadata": {},
   "outputs": [],
   "source": [
    "# function for building VGG Block\n",
    "\n",
    "def build_vgg_block(input_layer,\n",
    "                    num_cnn=3, \n",
    "                    channel=64,\n",
    "                    block_num=1,\n",
    "                   ):\n",
    "    # 입력 레이어\n",
    "    x = input_layer\n",
    "\n",
    "    # CNN 레이어\n",
    "    for cnn_num in range(num_cnn):\n",
    "        x = keras.layers.Conv2D(\n",
    "            filters=channel,\n",
    "            kernel_size=(3,3),\n",
    "            activation='relu',\n",
    "            kernel_initializer='he_normal',\n",
    "            padding='same',\n",
    "            name=f'block{block_num}_conv{cnn_num}'\n",
    "        )(x)    \n",
    "\n",
    "    # Max Pooling 레이어\n",
    "    x = keras.layers.MaxPooling2D(\n",
    "        pool_size=(2, 2),\n",
    "        strides=2,\n",
    "        name=f'block{block_num}_pooling'\n",
    "    )(x)\n",
    "\n",
    "    return x"
   ]
  },
  {
   "cell_type": "code",
   "execution_count": 8,
   "id": "mexican-toilet",
   "metadata": {},
   "outputs": [],
   "source": [
    "vgg_input_layer = keras.layers.Input(shape=(32,32,3))   # 입력 레이어 생성\n",
    "vgg_block_output = build_vgg_block(vgg_input_layer)    # VGG 블록 생성"
   ]
  },
  {
   "cell_type": "code",
   "execution_count": 9,
   "id": "indie-board",
   "metadata": {},
   "outputs": [
    {
     "name": "stdout",
     "output_type": "stream",
     "text": [
      "Model: \"model\"\n",
      "_________________________________________________________________\n",
      "Layer (type)                 Output Shape              Param #   \n",
      "=================================================================\n",
      "input_2 (InputLayer)         [(None, 32, 32, 3)]       0         \n",
      "_________________________________________________________________\n",
      "block1_conv0 (Conv2D)        (None, 32, 32, 64)        1792      \n",
      "_________________________________________________________________\n",
      "block1_conv1 (Conv2D)        (None, 32, 32, 64)        36928     \n",
      "_________________________________________________________________\n",
      "block1_conv2 (Conv2D)        (None, 32, 32, 64)        36928     \n",
      "_________________________________________________________________\n",
      "block1_pooling (MaxPooling2D (None, 16, 16, 64)        0         \n",
      "=================================================================\n",
      "Total params: 75,648\n",
      "Trainable params: 75,648\n",
      "Non-trainable params: 0\n",
      "_________________________________________________________________\n"
     ]
    }
   ],
   "source": [
    "# 블록 1개짜리 model 생성\n",
    "model = keras.Model(inputs=vgg_input_layer, outputs=vgg_block_output)  \n",
    "\n",
    "model.summary()"
   ]
  },
  {
   "cell_type": "markdown",
   "id": "fitting-energy",
   "metadata": {},
   "source": [
    "2-5. Ablation Study 실습 (3) VGG Complete Model"
   ]
  },
  {
   "cell_type": "markdown",
   "id": "front-courage",
   "metadata": {},
   "source": [
    "1) VGG-16\n"
   ]
  },
  {
   "cell_type": "code",
   "execution_count": 5,
   "id": "angry-toner",
   "metadata": {},
   "outputs": [],
   "source": [
    "# VGG 모델 자체를 생성하는 함수입니다.\n",
    "def build_vgg(input_shape=(32,32,3),\n",
    "              num_cnn_list=[2,2,3,3,3],\n",
    "              channel_list=[64,128,256,512,512],\n",
    "              num_classes=10):\n",
    "    \n",
    "    assert len(num_cnn_list) == len(channel_list) #모델을 만들기 전에 config list들이 같은 길이인지 확인합니다.\n",
    "    \n",
    "    input_layer = keras.layers.Input(shape=input_shape)  # input layer를 만들어둡니다.\n",
    "    output = input_layer\n",
    "    \n",
    "    # config list들의 길이만큼 반복해서 블록을 생성합니다.\n",
    "    for i, (num_cnn, channel) in enumerate(zip(num_cnn_list, channel_list)):\n",
    "        print(num_cnn)\n",
    "        output = build_vgg_block(\n",
    "            output,\n",
    "            num_cnn=num_cnn, \n",
    "            channel=channel,\n",
    "            block_num=i\n",
    "        )\n",
    "        \n",
    "    output = keras.layers.Flatten(name='flatten')(output)\n",
    "    output = keras.layers.Dense(4096, activation='relu', name='fc1')(output)\n",
    "    output = keras.layers.Dense(4096, activation='relu', name='fc2')(output)\n",
    "    output = keras.layers.Dense(num_classes, activation='softmax', name='predictions')(output)\n",
    "    \n",
    "    model = keras.Model(\n",
    "        inputs=input_layer, \n",
    "        outputs=output\n",
    "    )\n",
    "    return model"
   ]
  },
  {
   "cell_type": "code",
   "execution_count": 10,
   "id": "impressive-probability",
   "metadata": {},
   "outputs": [
    {
     "name": "stdout",
     "output_type": "stream",
     "text": [
      "2\n",
      "2\n",
      "3\n",
      "3\n",
      "3\n",
      "Model: \"model_1\"\n",
      "_________________________________________________________________\n",
      "Layer (type)                 Output Shape              Param #   \n",
      "=================================================================\n",
      "input_3 (InputLayer)         [(None, 32, 32, 3)]       0         \n",
      "_________________________________________________________________\n",
      "block0_conv0 (Conv2D)        (None, 32, 32, 64)        1792      \n",
      "_________________________________________________________________\n",
      "block0_conv1 (Conv2D)        (None, 32, 32, 64)        36928     \n",
      "_________________________________________________________________\n",
      "block0_pooling (MaxPooling2D (None, 16, 16, 64)        0         \n",
      "_________________________________________________________________\n",
      "block1_conv0 (Conv2D)        (None, 16, 16, 128)       73856     \n",
      "_________________________________________________________________\n",
      "block1_conv1 (Conv2D)        (None, 16, 16, 128)       147584    \n",
      "_________________________________________________________________\n",
      "block1_pooling (MaxPooling2D (None, 8, 8, 128)         0         \n",
      "_________________________________________________________________\n",
      "block2_conv0 (Conv2D)        (None, 8, 8, 256)         295168    \n",
      "_________________________________________________________________\n",
      "block2_conv1 (Conv2D)        (None, 8, 8, 256)         590080    \n",
      "_________________________________________________________________\n",
      "block2_conv2 (Conv2D)        (None, 8, 8, 256)         590080    \n",
      "_________________________________________________________________\n",
      "block2_pooling (MaxPooling2D (None, 4, 4, 256)         0         \n",
      "_________________________________________________________________\n",
      "block3_conv0 (Conv2D)        (None, 4, 4, 512)         1180160   \n",
      "_________________________________________________________________\n",
      "block3_conv1 (Conv2D)        (None, 4, 4, 512)         2359808   \n",
      "_________________________________________________________________\n",
      "block3_conv2 (Conv2D)        (None, 4, 4, 512)         2359808   \n",
      "_________________________________________________________________\n",
      "block3_pooling (MaxPooling2D (None, 2, 2, 512)         0         \n",
      "_________________________________________________________________\n",
      "block4_conv0 (Conv2D)        (None, 2, 2, 512)         2359808   \n",
      "_________________________________________________________________\n",
      "block4_conv1 (Conv2D)        (None, 2, 2, 512)         2359808   \n",
      "_________________________________________________________________\n",
      "block4_conv2 (Conv2D)        (None, 2, 2, 512)         2359808   \n",
      "_________________________________________________________________\n",
      "block4_pooling (MaxPooling2D (None, 1, 1, 512)         0         \n",
      "_________________________________________________________________\n",
      "flatten (Flatten)            (None, 512)               0         \n",
      "_________________________________________________________________\n",
      "fc1 (Dense)                  (None, 4096)              2101248   \n",
      "_________________________________________________________________\n",
      "fc2 (Dense)                  (None, 4096)              16781312  \n",
      "_________________________________________________________________\n",
      "predictions (Dense)          (None, 10)                40970     \n",
      "=================================================================\n",
      "Total params: 33,638,218\n",
      "Trainable params: 33,638,218\n",
      "Non-trainable params: 0\n",
      "_________________________________________________________________\n"
     ]
    }
   ],
   "source": [
    "# 기본값을 그대로 사용해서 VGG 모델을 만들면 VGG-16이 됩니다.\n",
    "vgg_16 = build_vgg()\n",
    "\n",
    "vgg_16.summary()"
   ]
  },
  {
   "cell_type": "markdown",
   "id": "nominated-picture",
   "metadata": {},
   "source": [
    "2) VGG-19"
   ]
  },
  {
   "cell_type": "code",
   "execution_count": 17,
   "id": "closing-leone",
   "metadata": {},
   "outputs": [
    {
     "name": "stdout",
     "output_type": "stream",
     "text": [
      "Model: \"model_2\"\n",
      "_________________________________________________________________\n",
      "Layer (type)                 Output Shape              Param #   \n",
      "=================================================================\n",
      "input_3 (InputLayer)         [(None, 32, 32, 3)]       0         \n",
      "_________________________________________________________________\n",
      "block0_conv0 (Conv2D)        (None, 32, 32, 64)        1792      \n",
      "_________________________________________________________________\n",
      "block0_conv1 (Conv2D)        (None, 32, 32, 64)        36928     \n",
      "_________________________________________________________________\n",
      "block0_pooling (MaxPooling2D (None, 16, 16, 64)        0         \n",
      "_________________________________________________________________\n",
      "block1_conv0 (Conv2D)        (None, 16, 16, 128)       73856     \n",
      "_________________________________________________________________\n",
      "block1_conv1 (Conv2D)        (None, 16, 16, 128)       147584    \n",
      "_________________________________________________________________\n",
      "block1_pooling (MaxPooling2D (None, 8, 8, 128)         0         \n",
      "_________________________________________________________________\n",
      "block2_conv0 (Conv2D)        (None, 8, 8, 256)         295168    \n",
      "_________________________________________________________________\n",
      "block2_conv1 (Conv2D)        (None, 8, 8, 256)         590080    \n",
      "_________________________________________________________________\n",
      "block2_conv2 (Conv2D)        (None, 8, 8, 256)         590080    \n",
      "_________________________________________________________________\n",
      "block2_conv3 (Conv2D)        (None, 8, 8, 256)         590080    \n",
      "_________________________________________________________________\n",
      "block2_pooling (MaxPooling2D (None, 4, 4, 256)         0         \n",
      "_________________________________________________________________\n",
      "block3_conv0 (Conv2D)        (None, 4, 4, 512)         1180160   \n",
      "_________________________________________________________________\n",
      "block3_conv1 (Conv2D)        (None, 4, 4, 512)         2359808   \n",
      "_________________________________________________________________\n",
      "block3_conv2 (Conv2D)        (None, 4, 4, 512)         2359808   \n",
      "_________________________________________________________________\n",
      "block3_conv3 (Conv2D)        (None, 4, 4, 512)         2359808   \n",
      "_________________________________________________________________\n",
      "block3_pooling (MaxPooling2D (None, 2, 2, 512)         0         \n",
      "_________________________________________________________________\n",
      "block4_conv0 (Conv2D)        (None, 2, 2, 512)         2359808   \n",
      "_________________________________________________________________\n",
      "block4_conv1 (Conv2D)        (None, 2, 2, 512)         2359808   \n",
      "_________________________________________________________________\n",
      "block4_conv2 (Conv2D)        (None, 2, 2, 512)         2359808   \n",
      "_________________________________________________________________\n",
      "block4_conv3 (Conv2D)        (None, 2, 2, 512)         2359808   \n",
      "_________________________________________________________________\n",
      "block4_pooling (MaxPooling2D (None, 1, 1, 512)         0         \n",
      "_________________________________________________________________\n",
      "flatten (Flatten)            (None, 512)               0         \n",
      "_________________________________________________________________\n",
      "fc1 (Dense)                  (None, 4096)              2101248   \n",
      "_________________________________________________________________\n",
      "fc2 (Dense)                  (None, 4096)              16781312  \n",
      "_________________________________________________________________\n",
      "predictions (Dense)          (None, 10)                40970     \n",
      "=================================================================\n",
      "Total params: 38,947,914\n",
      "Trainable params: 38,947,914\n",
      "Non-trainable params: 0\n",
      "_________________________________________________________________\n"
     ]
    }
   ],
   "source": [
    "# 원하는 블록의 설계에 따라 매개변수로 리스트를 전달해 줍니다.\n",
    "vgg_19 = build_vgg(\n",
    "    num_cnn_list=[2,2,4,4,4],\n",
    "    channel_list=[64,128,256,512,512]\n",
    ")\n",
    "\n",
    "vgg_19.summary()"
   ]
  },
  {
   "cell_type": "markdown",
   "id": "promotional-concord",
   "metadata": {},
   "source": [
    "2-6. Ablation Study 실습 (4) VGG-16 vs VGG-19\n"
   ]
  },
  {
   "cell_type": "code",
   "execution_count": 18,
   "id": "invalid-oxide",
   "metadata": {},
   "outputs": [],
   "source": [
    "BATCH_SIZE = 256\n",
    "EPOCH = 50"
   ]
  },
  {
   "cell_type": "code",
   "execution_count": 19,
   "id": "honey-antique",
   "metadata": {},
   "outputs": [],
   "source": [
    "(ds_train, ds_test), ds_info = tfds.load(\n",
    "    'cifar10',\n",
    "    split=['train', 'test'],\n",
    "    as_supervised=True,\n",
    "    shuffle_files=True,\n",
    "    with_info=True,\n",
    ")\n",
    "ds_train = apply_normalize_on_dataset(ds_train, batch_size=BATCH_SIZE)\n",
    "ds_test = apply_normalize_on_dataset(ds_test, batch_size=BATCH_SIZE)"
   ]
  },
  {
   "cell_type": "code",
   "execution_count": 20,
   "id": "medium-fundamentals",
   "metadata": {},
   "outputs": [
    {
     "name": "stdout",
     "output_type": "stream",
     "text": [
      "Epoch 1/50\n",
      "195/195 [==============================] - 89s 297ms/step - loss: 2.2603 - accuracy: 0.1546 - val_loss: 2.1103 - val_accuracy: 0.2408\n",
      "Epoch 2/50\n",
      "195/195 [==============================] - 68s 349ms/step - loss: 2.0501 - accuracy: 0.2550 - val_loss: 1.9180 - val_accuracy: 0.3069\n",
      "Epoch 3/50\n",
      "195/195 [==============================] - 49s 253ms/step - loss: 1.9047 - accuracy: 0.3126 - val_loss: 1.7941 - val_accuracy: 0.3560\n",
      "Epoch 4/50\n",
      "195/195 [==============================] - 49s 253ms/step - loss: 1.7977 - accuracy: 0.3533 - val_loss: 1.6826 - val_accuracy: 0.3844\n",
      "Epoch 5/50\n",
      "195/195 [==============================] - 49s 252ms/step - loss: 1.6826 - accuracy: 0.3913 - val_loss: 1.6580 - val_accuracy: 0.3954\n",
      "Epoch 6/50\n",
      "195/195 [==============================] - 49s 252ms/step - loss: 1.6306 - accuracy: 0.4121 - val_loss: 1.6025 - val_accuracy: 0.4253\n",
      "Epoch 7/50\n",
      "195/195 [==============================] - 49s 252ms/step - loss: 1.5654 - accuracy: 0.4353 - val_loss: 1.5221 - val_accuracy: 0.4525\n",
      "Epoch 8/50\n",
      "195/195 [==============================] - 49s 253ms/step - loss: 1.5055 - accuracy: 0.4588 - val_loss: 1.4809 - val_accuracy: 0.4593\n",
      "Epoch 9/50\n",
      "195/195 [==============================] - 49s 253ms/step - loss: 1.4708 - accuracy: 0.4676 - val_loss: 1.4271 - val_accuracy: 0.4835\n",
      "Epoch 10/50\n",
      "195/195 [==============================] - 49s 253ms/step - loss: 1.4299 - accuracy: 0.4859 - val_loss: 1.3837 - val_accuracy: 0.5056\n",
      "Epoch 11/50\n",
      "195/195 [==============================] - 49s 253ms/step - loss: 1.3805 - accuracy: 0.5047 - val_loss: 1.3799 - val_accuracy: 0.5047\n",
      "Epoch 12/50\n",
      "195/195 [==============================] - 49s 254ms/step - loss: 1.3647 - accuracy: 0.5091 - val_loss: 1.3519 - val_accuracy: 0.5097\n",
      "Epoch 13/50\n",
      "195/195 [==============================] - 49s 253ms/step - loss: 1.3135 - accuracy: 0.5271 - val_loss: 1.3484 - val_accuracy: 0.5309\n",
      "Epoch 14/50\n",
      "195/195 [==============================] - 49s 252ms/step - loss: 1.2837 - accuracy: 0.5421 - val_loss: 1.2606 - val_accuracy: 0.5485\n",
      "Epoch 15/50\n",
      "195/195 [==============================] - 49s 253ms/step - loss: 1.2443 - accuracy: 0.5504 - val_loss: 1.3187 - val_accuracy: 0.5216\n",
      "Epoch 16/50\n",
      "195/195 [==============================] - 49s 253ms/step - loss: 1.2105 - accuracy: 0.5648 - val_loss: 1.2287 - val_accuracy: 0.5613\n",
      "Epoch 17/50\n",
      "195/195 [==============================] - 49s 253ms/step - loss: 1.1864 - accuracy: 0.5781 - val_loss: 1.1856 - val_accuracy: 0.5689\n",
      "Epoch 18/50\n",
      "195/195 [==============================] - 49s 253ms/step - loss: 1.1487 - accuracy: 0.5915 - val_loss: 1.1900 - val_accuracy: 0.5864\n",
      "Epoch 19/50\n",
      "195/195 [==============================] - 49s 253ms/step - loss: 1.1080 - accuracy: 0.6066 - val_loss: 1.2026 - val_accuracy: 0.5818\n",
      "Epoch 20/50\n",
      "195/195 [==============================] - 49s 254ms/step - loss: 1.0990 - accuracy: 0.6117 - val_loss: 1.1786 - val_accuracy: 0.5847\n",
      "Epoch 21/50\n",
      "195/195 [==============================] - 49s 252ms/step - loss: 1.0534 - accuracy: 0.6270 - val_loss: 1.1325 - val_accuracy: 0.6034\n",
      "Epoch 22/50\n",
      "195/195 [==============================] - 49s 254ms/step - loss: 1.0285 - accuracy: 0.6381 - val_loss: 1.1434 - val_accuracy: 0.6025\n",
      "Epoch 23/50\n",
      "195/195 [==============================] - 49s 253ms/step - loss: 1.0121 - accuracy: 0.6429 - val_loss: 1.1263 - val_accuracy: 0.6071\n",
      "Epoch 24/50\n",
      "195/195 [==============================] - 49s 253ms/step - loss: 0.9905 - accuracy: 0.6486 - val_loss: 1.1106 - val_accuracy: 0.6163\n",
      "Epoch 25/50\n",
      "195/195 [==============================] - 49s 253ms/step - loss: 0.9570 - accuracy: 0.6610 - val_loss: 1.0759 - val_accuracy: 0.6254\n",
      "Epoch 26/50\n",
      "195/195 [==============================] - 49s 253ms/step - loss: 0.9364 - accuracy: 0.6694 - val_loss: 1.0657 - val_accuracy: 0.6269\n",
      "Epoch 27/50\n",
      "195/195 [==============================] - 49s 253ms/step - loss: 0.9107 - accuracy: 0.6744 - val_loss: 1.0710 - val_accuracy: 0.6257\n",
      "Epoch 28/50\n",
      "195/195 [==============================] - 49s 254ms/step - loss: 0.8819 - accuracy: 0.6875 - val_loss: 1.0630 - val_accuracy: 0.6311\n",
      "Epoch 29/50\n",
      "195/195 [==============================] - 49s 254ms/step - loss: 0.8617 - accuracy: 0.6952 - val_loss: 1.0709 - val_accuracy: 0.6328\n",
      "Epoch 30/50\n",
      "195/195 [==============================] - 49s 253ms/step - loss: 0.8267 - accuracy: 0.7080 - val_loss: 0.9933 - val_accuracy: 0.6537\n",
      "Epoch 31/50\n",
      "195/195 [==============================] - 49s 253ms/step - loss: 0.8052 - accuracy: 0.7147 - val_loss: 1.0188 - val_accuracy: 0.6449\n",
      "Epoch 32/50\n",
      "195/195 [==============================] - 49s 253ms/step - loss: 0.7856 - accuracy: 0.7228 - val_loss: 1.0206 - val_accuracy: 0.6390\n",
      "Epoch 33/50\n",
      "195/195 [==============================] - 49s 253ms/step - loss: 0.7666 - accuracy: 0.7324 - val_loss: 1.0105 - val_accuracy: 0.6534\n",
      "Epoch 34/50\n",
      "195/195 [==============================] - 49s 252ms/step - loss: 0.7330 - accuracy: 0.7383 - val_loss: 1.0213 - val_accuracy: 0.6489\n",
      "Epoch 35/50\n",
      "195/195 [==============================] - 49s 253ms/step - loss: 0.7195 - accuracy: 0.7462 - val_loss: 1.0228 - val_accuracy: 0.6457\n",
      "Epoch 36/50\n",
      "195/195 [==============================] - 50s 255ms/step - loss: 0.7000 - accuracy: 0.7569 - val_loss: 1.0716 - val_accuracy: 0.6244\n",
      "Epoch 37/50\n",
      "195/195 [==============================] - 49s 253ms/step - loss: 0.6656 - accuracy: 0.7664 - val_loss: 1.0582 - val_accuracy: 0.6459\n",
      "Epoch 38/50\n",
      "195/195 [==============================] - 49s 253ms/step - loss: 0.6488 - accuracy: 0.7714 - val_loss: 0.9875 - val_accuracy: 0.6689\n",
      "Epoch 39/50\n",
      "195/195 [==============================] - 49s 253ms/step - loss: 0.6217 - accuracy: 0.7808 - val_loss: 0.9874 - val_accuracy: 0.6642\n",
      "Epoch 40/50\n",
      "195/195 [==============================] - 49s 253ms/step - loss: 0.6076 - accuracy: 0.7867 - val_loss: 1.0252 - val_accuracy: 0.6670\n",
      "Epoch 41/50\n",
      "195/195 [==============================] - 49s 253ms/step - loss: 0.5812 - accuracy: 0.7951 - val_loss: 1.0207 - val_accuracy: 0.6612\n",
      "Epoch 42/50\n",
      "195/195 [==============================] - 49s 254ms/step - loss: 0.5531 - accuracy: 0.8060 - val_loss: 1.0874 - val_accuracy: 0.6517\n",
      "Epoch 43/50\n",
      "195/195 [==============================] - 49s 253ms/step - loss: 0.5406 - accuracy: 0.8133 - val_loss: 1.0367 - val_accuracy: 0.6610\n",
      "Epoch 44/50\n",
      "195/195 [==============================] - 49s 254ms/step - loss: 0.5019 - accuracy: 0.8235 - val_loss: 1.0811 - val_accuracy: 0.6537\n",
      "Epoch 45/50\n",
      "195/195 [==============================] - 49s 253ms/step - loss: 0.4922 - accuracy: 0.8258 - val_loss: 1.0862 - val_accuracy: 0.6521\n",
      "Epoch 46/50\n",
      "195/195 [==============================] - 49s 253ms/step - loss: 0.4677 - accuracy: 0.8344 - val_loss: 1.1090 - val_accuracy: 0.6526\n",
      "Epoch 47/50\n",
      "195/195 [==============================] - 49s 253ms/step - loss: 0.4416 - accuracy: 0.8441 - val_loss: 1.1354 - val_accuracy: 0.6587\n",
      "Epoch 48/50\n",
      "195/195 [==============================] - 49s 253ms/step - loss: 0.4349 - accuracy: 0.8469 - val_loss: 1.1130 - val_accuracy: 0.6482\n",
      "Epoch 49/50\n",
      "195/195 [==============================] - 50s 254ms/step - loss: 0.4072 - accuracy: 0.8612 - val_loss: 1.1200 - val_accuracy: 0.6634\n",
      "Epoch 50/50\n",
      "195/195 [==============================] - 49s 253ms/step - loss: 0.3836 - accuracy: 0.8667 - val_loss: 1.1575 - val_accuracy: 0.6634\n"
     ]
    }
   ],
   "source": [
    "vgg_16.compile(\n",
    "    loss='sparse_categorical_crossentropy',\n",
    "    optimizer=tf.keras.optimizers.SGD(lr=0.01, clipnorm=1.),\n",
    "    metrics=['accuracy'],\n",
    ")\n",
    "\n",
    "history_16 = vgg_16.fit(\n",
    "    ds_train,\n",
    "    steps_per_epoch=int(ds_info.splits['train'].num_examples/BATCH_SIZE),\n",
    "    validation_steps=int(ds_info.splits['test'].num_examples/BATCH_SIZE),\n",
    "    epochs=EPOCH,\n",
    "    validation_data=ds_test,\n",
    "    verbose=1,\n",
    "    use_multiprocessing=True,\n",
    ")"
   ]
  },
  {
   "cell_type": "code",
   "execution_count": 21,
   "id": "decimal-newspaper",
   "metadata": {},
   "outputs": [
    {
     "name": "stdout",
     "output_type": "stream",
     "text": [
      "Epoch 1/50\n",
      "195/195 [==============================] - 66s 298ms/step - loss: 2.2820 - accuracy: 0.1474 - val_loss: 2.1725 - val_accuracy: 0.1974\n",
      "Epoch 2/50\n",
      "195/195 [==============================] - 58s 298ms/step - loss: 2.1177 - accuracy: 0.2170 - val_loss: 2.0104 - val_accuracy: 0.2716\n",
      "Epoch 3/50\n",
      "195/195 [==============================] - 58s 297ms/step - loss: 1.9682 - accuracy: 0.2837 - val_loss: 1.8128 - val_accuracy: 0.3603\n",
      "Epoch 4/50\n",
      "195/195 [==============================] - 58s 298ms/step - loss: 1.8187 - accuracy: 0.3390 - val_loss: 1.7488 - val_accuracy: 0.3702\n",
      "Epoch 5/50\n",
      "195/195 [==============================] - 58s 297ms/step - loss: 1.7157 - accuracy: 0.3842 - val_loss: 1.6298 - val_accuracy: 0.4225\n",
      "Epoch 6/50\n",
      "195/195 [==============================] - 58s 299ms/step - loss: 1.6402 - accuracy: 0.4095 - val_loss: 1.5771 - val_accuracy: 0.4254\n",
      "Epoch 7/50\n",
      "195/195 [==============================] - 58s 298ms/step - loss: 1.5906 - accuracy: 0.4241 - val_loss: 1.4954 - val_accuracy: 0.4602\n",
      "Epoch 8/50\n",
      "195/195 [==============================] - 58s 297ms/step - loss: 1.5253 - accuracy: 0.4488 - val_loss: 1.5058 - val_accuracy: 0.4519\n",
      "Epoch 9/50\n",
      "195/195 [==============================] - 58s 298ms/step - loss: 1.4859 - accuracy: 0.4677 - val_loss: 1.4422 - val_accuracy: 0.4906\n",
      "Epoch 10/50\n",
      "195/195 [==============================] - 58s 298ms/step - loss: 1.4389 - accuracy: 0.4809 - val_loss: 1.4036 - val_accuracy: 0.4965\n",
      "Epoch 11/50\n",
      "195/195 [==============================] - 58s 298ms/step - loss: 1.3934 - accuracy: 0.4988 - val_loss: 1.4108 - val_accuracy: 0.4975\n",
      "Epoch 12/50\n",
      "195/195 [==============================] - 58s 298ms/step - loss: 1.3530 - accuracy: 0.5107 - val_loss: 1.3142 - val_accuracy: 0.5344\n",
      "Epoch 13/50\n",
      "195/195 [==============================] - 58s 299ms/step - loss: 1.3144 - accuracy: 0.5280 - val_loss: 1.3021 - val_accuracy: 0.5291\n",
      "Epoch 14/50\n",
      "195/195 [==============================] - 58s 299ms/step - loss: 1.2751 - accuracy: 0.5449 - val_loss: 1.2647 - val_accuracy: 0.5549\n",
      "Epoch 15/50\n",
      "195/195 [==============================] - 58s 297ms/step - loss: 1.2420 - accuracy: 0.5565 - val_loss: 1.2485 - val_accuracy: 0.5521\n",
      "Epoch 16/50\n",
      "195/195 [==============================] - 58s 299ms/step - loss: 1.1976 - accuracy: 0.5700 - val_loss: 1.2541 - val_accuracy: 0.5545\n",
      "Epoch 17/50\n",
      "195/195 [==============================] - 58s 298ms/step - loss: 1.1552 - accuracy: 0.5872 - val_loss: 1.2212 - val_accuracy: 0.5706\n",
      "Epoch 18/50\n",
      "195/195 [==============================] - 58s 297ms/step - loss: 1.1305 - accuracy: 0.6014 - val_loss: 1.1809 - val_accuracy: 0.5763\n",
      "Epoch 19/50\n",
      "195/195 [==============================] - 58s 299ms/step - loss: 1.0926 - accuracy: 0.6096 - val_loss: 1.2071 - val_accuracy: 0.5741\n",
      "Epoch 20/50\n",
      "195/195 [==============================] - 58s 298ms/step - loss: 1.0753 - accuracy: 0.6172 - val_loss: 1.1240 - val_accuracy: 0.5984\n",
      "Epoch 21/50\n",
      "195/195 [==============================] - 58s 297ms/step - loss: 1.0419 - accuracy: 0.6306 - val_loss: 1.1330 - val_accuracy: 0.6022\n",
      "Epoch 22/50\n",
      "195/195 [==============================] - 58s 299ms/step - loss: 1.0092 - accuracy: 0.6388 - val_loss: 1.1064 - val_accuracy: 0.6165\n",
      "Epoch 23/50\n",
      "195/195 [==============================] - 58s 299ms/step - loss: 0.9831 - accuracy: 0.6569 - val_loss: 1.0757 - val_accuracy: 0.6217\n",
      "Epoch 24/50\n",
      "195/195 [==============================] - 58s 297ms/step - loss: 0.9529 - accuracy: 0.6642 - val_loss: 1.1302 - val_accuracy: 0.6099\n",
      "Epoch 25/50\n",
      "195/195 [==============================] - 58s 299ms/step - loss: 0.9243 - accuracy: 0.6742 - val_loss: 1.1045 - val_accuracy: 0.6133\n",
      "Epoch 26/50\n",
      "195/195 [==============================] - 58s 298ms/step - loss: 0.8916 - accuracy: 0.6820 - val_loss: 1.0407 - val_accuracy: 0.6323\n",
      "Epoch 27/50\n",
      "195/195 [==============================] - 58s 298ms/step - loss: 0.8812 - accuracy: 0.6888 - val_loss: 1.0930 - val_accuracy: 0.6217\n",
      "Epoch 28/50\n",
      "195/195 [==============================] - 58s 298ms/step - loss: 0.8506 - accuracy: 0.6992 - val_loss: 1.0532 - val_accuracy: 0.6324\n",
      "Epoch 29/50\n",
      "195/195 [==============================] - 58s 298ms/step - loss: 0.8153 - accuracy: 0.7146 - val_loss: 1.0617 - val_accuracy: 0.6351\n",
      "Epoch 30/50\n",
      "195/195 [==============================] - 58s 299ms/step - loss: 0.7796 - accuracy: 0.7254 - val_loss: 1.0968 - val_accuracy: 0.6205\n",
      "Epoch 31/50\n",
      "195/195 [==============================] - 58s 298ms/step - loss: 0.7578 - accuracy: 0.7315 - val_loss: 1.0876 - val_accuracy: 0.6370\n",
      "Epoch 32/50\n",
      "195/195 [==============================] - 58s 298ms/step - loss: 0.7385 - accuracy: 0.7427 - val_loss: 1.0400 - val_accuracy: 0.6557\n",
      "Epoch 33/50\n",
      "195/195 [==============================] - 58s 298ms/step - loss: 0.7118 - accuracy: 0.7486 - val_loss: 1.1000 - val_accuracy: 0.6364\n",
      "Epoch 34/50\n",
      "195/195 [==============================] - 58s 298ms/step - loss: 0.6751 - accuracy: 0.7632 - val_loss: 1.0966 - val_accuracy: 0.6376\n",
      "Epoch 35/50\n",
      "195/195 [==============================] - 58s 299ms/step - loss: 0.6483 - accuracy: 0.7706 - val_loss: 1.0450 - val_accuracy: 0.6558\n",
      "Epoch 36/50\n",
      "195/195 [==============================] - 58s 297ms/step - loss: 0.6269 - accuracy: 0.7791 - val_loss: 1.0562 - val_accuracy: 0.6519\n",
      "Epoch 37/50\n",
      "195/195 [==============================] - 58s 298ms/step - loss: 0.5976 - accuracy: 0.7894 - val_loss: 1.0759 - val_accuracy: 0.6467\n",
      "Epoch 38/50\n",
      "195/195 [==============================] - 58s 298ms/step - loss: 0.5807 - accuracy: 0.7967 - val_loss: 1.1107 - val_accuracy: 0.6594\n",
      "Epoch 39/50\n",
      "195/195 [==============================] - 58s 296ms/step - loss: 0.5465 - accuracy: 0.8100 - val_loss: 1.1100 - val_accuracy: 0.6531\n",
      "Epoch 40/50\n",
      "195/195 [==============================] - 58s 298ms/step - loss: 0.5202 - accuracy: 0.8207 - val_loss: 1.1255 - val_accuracy: 0.6484\n",
      "Epoch 41/50\n",
      "195/195 [==============================] - 58s 298ms/step - loss: 0.5051 - accuracy: 0.8261 - val_loss: 1.0943 - val_accuracy: 0.6644\n",
      "Epoch 42/50\n",
      "195/195 [==============================] - 58s 299ms/step - loss: 0.4626 - accuracy: 0.8375 - val_loss: 1.0810 - val_accuracy: 0.6660\n",
      "Epoch 43/50\n",
      "195/195 [==============================] - 58s 299ms/step - loss: 0.4578 - accuracy: 0.8364 - val_loss: 1.1864 - val_accuracy: 0.6557\n",
      "Epoch 44/50\n",
      "195/195 [==============================] - 58s 299ms/step - loss: 0.4337 - accuracy: 0.8497 - val_loss: 1.1426 - val_accuracy: 0.6555\n",
      "Epoch 45/50\n",
      "195/195 [==============================] - 58s 297ms/step - loss: 0.4084 - accuracy: 0.8550 - val_loss: 1.2346 - val_accuracy: 0.6490\n",
      "Epoch 46/50\n",
      "195/195 [==============================] - 58s 298ms/step - loss: 0.3856 - accuracy: 0.8646 - val_loss: 1.2485 - val_accuracy: 0.6453\n",
      "Epoch 47/50\n",
      "195/195 [==============================] - 58s 299ms/step - loss: 0.3583 - accuracy: 0.8743 - val_loss: 1.2144 - val_accuracy: 0.6630\n",
      "Epoch 48/50\n",
      "195/195 [==============================] - 58s 298ms/step - loss: 0.3383 - accuracy: 0.8821 - val_loss: 1.2489 - val_accuracy: 0.6537\n",
      "Epoch 49/50\n",
      "195/195 [==============================] - 58s 298ms/step - loss: 0.3121 - accuracy: 0.8901 - val_loss: 1.2174 - val_accuracy: 0.6598\n",
      "Epoch 50/50\n",
      "195/195 [==============================] - 58s 298ms/step - loss: 0.2931 - accuracy: 0.8989 - val_loss: 1.2489 - val_accuracy: 0.6558\n"
     ]
    }
   ],
   "source": [
    "vgg_19.compile(\n",
    "    loss='sparse_categorical_crossentropy',\n",
    "    optimizer=tf.keras.optimizers.SGD(lr=0.01, clipnorm=1.),\n",
    "    metrics=['accuracy'],\n",
    ")\n",
    "\n",
    "history_19 = vgg_19.fit(\n",
    "    ds_train,\n",
    "    steps_per_epoch=int(ds_info.splits['train'].num_examples/BATCH_SIZE),\n",
    "    validation_steps=int(ds_info.splits['test'].num_examples/BATCH_SIZE),\n",
    "    epochs=EPOCH,\n",
    "    validation_data=ds_test,\n",
    "    verbose=1,\n",
    "    use_multiprocessing=True,\n",
    ")"
   ]
  },
  {
   "cell_type": "code",
   "execution_count": 22,
   "id": "distinct-tulsa",
   "metadata": {},
   "outputs": [
    {
     "data": {
      "image/png": "[encoded data removed]",
      "text/plain": [
       "<Figure size 432x288 with 1 Axes>"
      ]
     },
     "metadata": {
      "needs_background": "light"
     },
     "output_type": "display_data"
    }
   ],
   "source": [
    "import matplotlib.pyplot as plt\n",
    "\n",
    "plt.plot(history_16.history['loss'], 'r')\n",
    "plt.plot(history_19.history['loss'], 'b')\n",
    "plt.title('Model training loss')\n",
    "plt.ylabel('Loss')\n",
    "plt.xlabel('Epoch')\n",
    "plt.legend(['vgg_16', 'vgg_19'], loc='upper left')\n",
    "plt.show()"
   ]
  },
  {
   "cell_type": "code",
   "execution_count": 23,
   "id": "dated-dollar",
   "metadata": {},
   "outputs": [
    {
     "data": {
      "image/png": "[encoded data removed]",
      "text/plain": [
       "<Figure size 432x288 with 1 Axes>"
      ]
     },
     "metadata": {
      "needs_background": "light"
     },
     "output_type": "display_data"
    }
   ],
   "source": [
    "plt.plot(history_16.history['val_accuracy'], 'r')\n",
    "plt.plot(history_19.history['val_accuracy'], 'b')\n",
    "plt.title('Model validation accuracy')\n",
    "plt.ylabel('Accuracy')\n",
    "plt.xlabel('Epoch')\n",
    "plt.legend(['vgg_16', 'vgg_19'], loc='upper left')\n",
    "plt.show()"
   ]
  },
  {
   "cell_type": "markdown",
   "id": "ruled-hepatitis",
   "metadata": {},
   "source": [
    "2-7. 프로젝트: ResNet Ablation Study\n",
    "1) ResNet 기본 블록 구성하기\n",
    "이제 실전으로 돌아와서 ResNet-34와 ResNet-50 네트워크를 직접 만든다고 생각해 봅시다. 우선 ResNet-34와 ResNet-50에서 사용되는 블록의 공통점을 찾고 차이점을 찾아봅시다.\n",
    "\n",
    "Deep Residual Learning for Image Recognition(paper)\n",
    "빛과 같은 카이밍허님의 깃헙\n",
    "content img\n",
    "Q1. ResNet논문에 소개된 위 표에서, ResNet 34와 50에서 사용된 블록들의 공통점과 차이점을 비교해보고 그 특징을 정리해봅시다.\n",
    "\n",
    ".\n",
    "예시답안\n",
    "예시답안\n",
    "ResNet-34와 ResNet-50은 모두 conv block이라고 불리는 블록 구조를 각각 3, 4, 6, 3개씩 반복해서 쌓은 형태라는 공통점을 가지고 있습니다. 그러나 ResNet-34와 ResNet-50의 블록 내부 구성은 약간 다릅니다. ResNet-34의 경우 Block은 3x3 kernel인 Convolution layer로만 구성되어있지만, ResNet-50은 1x1 Convolution이 앞뒤로 붙어 더 많은 레이어를 한 블록 내에 가지게 됩니다.\n",
    "\n",
    "위의 퀴즈의 답을 어느 정도 스스로 찾아내셨다면 ResNet의 기본 블록, 또는 Residual 블록(residual block)이 어떻게 구성되어야 할지 감이 오셨을 것입니다. Learning by Doing 이라고 하죠! 이번에는 ResNet의 블록을 직접 만들어 봅시다! 혹시나 모델 내의 앞과 뒤에서 반복되지 않을 것 같은 부분은 함수로 구현하지 않아도 됩니다.\n",
    "\n",
    "우리가 지금 만들어야 하는 것은 블록을 생성하는 함수입니다. 처음이라 너무 막연하실 수 있겠지만 여러분들은 이미 몇 번의 경험이 있습니다.\n",
    "일단은 VGG에서도 블록을 생성하는 함수를 만들었습니다. ResNet이라 하더라도 아이디어의 기본 원리는 다르지 않습니다.\n",
    "\n",
    "그리고, 여러분들은 아마 이전에 VGG-16이나 ResNet-50 모델을 만들어서 훈련까지 시켜본 경험들이 있으실 것입니다. 코드를 스스로 구현한 것이 아니라 공개된 오픈소스를 활용해서 빠르게 구성했겠지만, 블록 생성 함수가 어떤 형태로 만들어지는지를 이미 경험해 보신 바 있을 테니 그것을 참고하셔도 도움이 될 것입니다.\n",
    "\n",
    "하지만 이번 단계에서는 가급적 ResNet 논문을 통해서 구현 방법에 대한 정보를 얻으시기를 권합니다. 논문만 보고 스스로 구현해 보는 경험을 통해 딥러닝 개발자로서의 내공과 자신감이 다져지게 될 것입니다.\n",
    "\n",
    "2) ResNet-34, ResNet-50 Complete Model\n",
    "ResNet 모델 구현 시 Sequential API나 Subclass API를 사용한다면, 그 과정에서 모델 단위로 기존의 코드를 재활용했을 때 model.summary() 호출 시 서브모델 내부의 레이어 구성이 생략되고 서브모델 단위로만 출력될 우려가 있습니다. 모델 구성만을 위해서는 그런 방법도 무방하지만, 가급적 이번 실습에서는 VGG 실습 예시에서처럼 Functional API 를 구성하는 방식을 사용할 것을 권합니다.\n",
    "\n",
    "ResNet-34\n",
    "VGG와 같이 블록을 만드는 함수를 사용해서 직접 전체 모델을 만들어 봅시다. ResNet-34와 ResNet-50의 차이에 따라 달라지는 구성(configuration)을 함수에 전달해서 같은 생성 함수 build_resnet()를 통해서 ResNet의 여러 가지 버전들을 모두 만들어 낼 수 있도록 해야 합니다.\n",
    "\n",
    "다음의 코드를 실행하면,"
   ]
  },
  {
   "cell_type": "code",
   "execution_count": 24,
   "id": "identified-dylan",
   "metadata": {},
   "outputs": [
    {
     "ename": "NameError",
     "evalue": "name 'build_resnet' is not defined",
     "output_type": "error",
     "traceback": [
      "\u001b[0;31m---------------------------------------------------------------------------\u001b[0m",
      "\u001b[0;31mNameError\u001b[0m                                 Traceback (most recent call last)",
      "\u001b[0;32m<ipython-input-24-4676099ea9d1>\u001b[0m in \u001b[0;36m<module>\u001b[0;34m\u001b[0m\n\u001b[0;32m----> 1\u001b[0;31m \u001b[0mresnet_34\u001b[0m \u001b[0;34m=\u001b[0m \u001b[0mbuild_resnet\u001b[0m\u001b[0;34m(\u001b[0m\u001b[0minput_shape\u001b[0m\u001b[0;34m=\u001b[0m\u001b[0;34m(\u001b[0m\u001b[0;36m32\u001b[0m\u001b[0;34m,\u001b[0m \u001b[0;36m32\u001b[0m\u001b[0;34m,\u001b[0m\u001b[0;36m3\u001b[0m\u001b[0;34m)\u001b[0m\u001b[0;34m,\u001b[0m \u001b[0mis_50\u001b[0m\u001b[0;34m=\u001b[0m\u001b[0;32mFalse\u001b[0m\u001b[0;34m)\u001b[0m\u001b[0;34m\u001b[0m\u001b[0;34m\u001b[0m\u001b[0m\n\u001b[0m\u001b[1;32m      2\u001b[0m \u001b[0mresnet_34\u001b[0m\u001b[0;34m.\u001b[0m\u001b[0msummary\u001b[0m\u001b[0;34m(\u001b[0m\u001b[0;34m)\u001b[0m\u001b[0;34m\u001b[0m\u001b[0;34m\u001b[0m\u001b[0m\n",
      "\u001b[0;31mNameError\u001b[0m: name 'build_resnet' is not defined"
     ]
    }
   ],
   "source": [
    "resnet_34 = build_resnet(input_shape=(32, 32,3), is_50=False)\n",
    "resnet_34.summary()"
   ]
  },
  {
   "cell_type": "code",
   "execution_count": null,
   "id": "severe-warren",
   "metadata": {},
   "outputs": [],
   "source": [
    "resnet_50 = build_resnet(input_shape=(32, 32,3), is_50=True)\n",
    "resnet_50.summary()"
   ]
  },
  {
   "cell_type": "markdown",
   "id": "suited-valve",
   "metadata": {},
   "source": [
    "이러한 결과와 '비슷'하게 나와야 합니다. 참고하세요!\n",
    "ResNet-50은 구현마다 약간씩 다르게 나올 수 있습니다. 왜냐하면 Residual 블록의 Batch Normalization과 ReLU 레이어의 위치가 논문에 명시되지 않았기 때문이죠!\n",
    "\n",
    "하지만 ResNet을 고안한 4인방은 이에 대해 또 한번 논문을 씁니다. Residual 블록에 대해서 자세하게 씁니다. 이 논문을 읽어보면 오리지널 ResNet-50에 대한 힌트가 약.간. 있을 수도 있습니다~!\n",
    "\n",
    "Identity Mappings in Deep Residual Networks\n",
    "\n",
    "3) 일반 네트워크(plain network) 만들기\n",
    "블록 코드 수정하기\n",
    "우리는 앞에서 ResNet 모델을 구현했습니다. ResNet의 핵심 아이디어는 skip connection과 residual network기 때문에, ResNet의 효과를 보여주기 위해서는 skip connection이 없는 일반 네트워크(plain net)가 필요합니다. 위에서 ResNet 블록을 만들기 위한 함수를 그대로 활용해서 skip connection이 없는 블록을 만들 수 있도록 기능을 추가해 주세요!\n",
    "\n",
    "전체 함수 코드 수정하기\n",
    "이제 위에서 만든 블록 함수를 토대로 전체 네트워크를 만들 수 있도록 전체 네트워크 코드를 수정합시다. ResNet-50과 ResNet-34, 그리고 같은 레이어를 가지지만 skip connection이 없는 PlainNet-50과 PlainNet-34를 만들 수 있는 함수 build_plainnet()를 만들어 보세요. 이때 입력 이미지의 크기는 (224, 224, 3)으로 해주세요.\n",
    "\n",
    "4) ResNet-50 vs Plain-50 또는 ResNet-34 vs Plain-34\n",
    "Ablation Study\n",
    "이제 VGG-16, 19 예제와 같이 ResNet-50 vs Plain-50 또는 ResNet-34 vs Plain-34에 대해서 학습을 진행해 봅니다. 그리고 결과를 비교해 봅시다! ResNet은 많은 레이어와 Pooling을 거치므로 CIFAR-10에서는 오버피팅(overfitting)으로 잘 동작하지 않을 수 있습니다. 레이어가 많고 학습해야 할 변수(parameter)가 많은 데 비해, 데이터 수가 많지 않기 때문이지요. 224x224 픽셀 크기의 데이터셋을 찾아서 실험해 보도록 합시다. 학습은 끝까지 시키기엔 시간이 없으니 확인을 위한 정도의 epoch로 설정해 주세요.\n",
    "\n",
    "어떤 데이터셋을 사용하셔도 무방하지만, 얼른 떠오르는 것이 없다면 tensorflow-datasets에서 제공하는 cats_vs_dogs 데이터셋을 추천합니다. 아마 이 데이터셋도 다루어 보신 적이 있을 것입니다. Tensorflow에서 제공하는 데이터셋이므로 오늘 VGG 학습에 사용했던 CIFAR-10을 로딩하는 것과 같은 방법으로 활용하실 수 있습니다.\n",
    "\n",
    "시각화\n",
    "학습을 통해 만들어진 history를 matplotlib로 시각화하여 두 모델의 검증 정확도(validation accuracy)와 검증 손실(validation loss)이 어떻게 다른지 살펴봅시다.\n",
    "\n",
    "추가 실험\n",
    "시간이 남으면 아래 카탈로그를 보고, tensorflow-datasets의 지원하는 다른 데이터셋에 실험을 해봅시다.\n",
    "\n",
    "Tensorflow Datasets"
   ]
  },
  {
   "cell_type": "markdown",
   "id": "front-macedonia",
   "metadata": {},
   "source": [
    "루브릭\n",
    "\n",
    "아래의 기준을 바탕으로 프로젝트를 평가합니다.\n",
    "\n",
    "평가문항\t상세기준\n",
    "1. ResNet-34, ResNet-50 모델 구현이 정상적으로 진행되었는가?\n",
    "\n",
    "블록함수 구현이 제대로 진행되었으며 구현한 모델의 summary가 예상된 형태로 출력되었다.\n",
    "2. 구현한 ResNet 모델을 활용하여 Image Classification 모델 훈련이 가능한가?\n",
    "\n",
    "cats_vs_dogs 데이터셋으로 학습시 몇 epoch동안 안정적으로 loss 감소가 진행 확인되었다.\n",
    "3. Ablation Study 결과가 바른 포맷으로 제출되었는가?\n",
    "\n",
    "ResNet-34, ResNet-50 각각 plain모델과 residual모델을 동일한 epoch만큼 학습시켰을 때의 validation accuracy 기준으로 Ablation Study 결과표가 작성되었다.\n",
    "프로젝트 업로드 (URL)\n",
    "\n",
    "GitHub URL을 입력하신 후 하단의 [성취하기] 버튼을 눌러주세요."
   ]
  },
  {
   "cell_type": "code",
   "execution_count": null,
   "id": "sunrise-pricing",
   "metadata": {},
   "outputs": [],
   "source": []
  },
  {
   "cell_type": "code",
   "execution_count": null,
   "id": "handed-wound",
   "metadata": {},
   "outputs": [],
   "source": []
  },
  {
   "cell_type": "code",
   "execution_count": null,
   "id": "exterior-organic",
   "metadata": {},
   "outputs": [],
   "source": []
  },
  {
   "cell_type": "code",
   "execution_count": null,
   "id": "detected-credits",
   "metadata": {},
   "outputs": [],
   "source": []
  }
 ],
 "metadata": {
  "kernelspec": {
   "display_name": "Python 3",
   "language": "python",
   "name": "python3"
  },
  "language_info": {
   "codemirror_mode": {
    "name": "ipython",
    "version": 3
   },
   "file_extension": ".py",
   "mimetype": "text/x-python",
   "name": "python",
   "nbconvert_exporter": "python",
   "pygments_lexer": "ipython3",
   "version": "3.7.9"
  }
 },
 "nbformat": 4,
 "nbformat_minor": 5
}
