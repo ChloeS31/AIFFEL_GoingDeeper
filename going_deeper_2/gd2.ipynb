{
 "cells": [
  {
   "cell_type": "markdown",
   "id": "reliable-recycling",
   "metadata": {},
   "source": [
    "# Import Modules"
   ]
  },
  {
   "cell_type": "code",
   "execution_count": null,
   "id": "sophisticated-collar",
   "metadata": {},
   "outputs": [],
   "source": [
    "# TensorFlow and tf.keras\n",
    "import tensorflow as tf\n",
    "from tensorflow import keras\n",
    "\n",
    "# Helper libraries\n",
    "import numpy as np\n",
    "import matplotlib.pyplot as plt\n",
    "\n",
    "import tensorflow_datasets as tfds\n",
    "\n",
    "import urllib3"
   ]
  },
  {
   "cell_type": "code",
   "execution_count": null,
   "id": "preceding-sierra",
   "metadata": {},
   "outputs": [],
   "source": [
    "# Tensorflow가 활용할 GPU가 장착되어 있는지 확인해 봅니다.\n",
    "tf.config.list_physical_devices('GPU')"
   ]
  },
  {
   "cell_type": "markdown",
   "id": "environmental-ordering",
   "metadata": {},
   "source": [
    "# Load Data"
   ]
  },
  {
   "cell_type": "code",
   "execution_count": null,
   "id": "accurate-there",
   "metadata": {},
   "outputs": [],
   "source": [
    "urllib3.disable_warnings()\n",
    "\n",
    "(ds_train, ds_test), ds_info = tfds.load(\n",
    "    'cats_vs_dogs',\n",
    "    split=['train[:80%]', 'train[80%:]'],\n",
    "    as_supervised=True,\n",
    "    shuffle_files=True,\n",
    "    with_info=True,\n",
    ")"
   ]
  },
  {
   "cell_type": "code",
   "execution_count": null,
   "id": "mental-renewal",
   "metadata": {
    "scrolled": true
   },
   "outputs": [],
   "source": [
    "type(ds_train)"
   ]
  },
  {
   "cell_type": "code",
   "execution_count": null,
   "id": "animal-performer",
   "metadata": {},
   "outputs": [],
   "source": [
    "ds_info.features"
   ]
  },
  {
   "cell_type": "code",
   "execution_count": null,
   "id": "technological-poker",
   "metadata": {},
   "outputs": [],
   "source": [
    "# 데이터의 개수도 확인해 봅시다. \n",
    "print(tf.data.experimental.cardinality(ds_train))\n",
    "print(tf.data.experimental.cardinality(ds_test))"
   ]
  },
  {
   "cell_type": "code",
   "execution_count": null,
   "id": "sudden-monaco",
   "metadata": {},
   "outputs": [],
   "source": [
    "def normalize_and_resize_img(image, label):\n",
    "    \"\"\"Normalizes images: `uint8` -> `float32`.\"\"\"\n",
    "    image = tf.image.resize(image, [32, 32])\n",
    "    image = tf.cast(image, tf.float32) / 255.\n",
    "    return image, label"
   ]
  },
  {
   "cell_type": "code",
   "execution_count": null,
   "id": "future-throat",
   "metadata": {},
   "outputs": [],
   "source": [
    "def apply_normalize_on_dataset(ds, batch_size, is_test=False):\n",
    "    ds = ds.map(\n",
    "        normalize_and_resize_img, \n",
    "        num_parallel_calls=1\n",
    "    )\n",
    "    ds = ds.batch(batch_size)\n",
    "    if not is_test:\n",
    "        ds = ds.repeat()\n",
    "        ds = ds.shuffle(200)\n",
    "#     ds = ds.prefetch(tf.data.experimental.AUTOTUNE)\n",
    "    return ds"
   ]
  },
  {
   "cell_type": "code",
   "execution_count": null,
   "id": "present-twenty",
   "metadata": {},
   "outputs": [],
   "source": [
    "ds_info.features[\"label\"].num_classes"
   ]
  },
  {
   "cell_type": "code",
   "execution_count": null,
   "id": "elder-postcard",
   "metadata": {},
   "outputs": [],
   "source": [
    "ds_info.features[\"label\"].names"
   ]
  },
  {
   "cell_type": "code",
   "execution_count": null,
   "id": "pointed-incident",
   "metadata": {
    "scrolled": true
   },
   "outputs": [],
   "source": [
    "fig = tfds.show_examples(ds_train, ds_info)"
   ]
  },
  {
   "cell_type": "code",
   "execution_count": null,
   "id": "unique-customs",
   "metadata": {
    "scrolled": true
   },
   "outputs": [],
   "source": [
    "fig = tfds.show_examples(ds_test, ds_info)\n"
   ]
  },
  {
   "cell_type": "markdown",
   "id": "respiratory-charger",
   "metadata": {},
   "source": [
    "# Build Models"
   ]
  },
  {
   "cell_type": "code",
   "execution_count": null,
   "id": "unavailable-indian",
   "metadata": {},
   "outputs": [],
   "source": [
    "def conv_layer(x, channel, kernel_size, block_num, cnn_num, i, strides):\n",
    "    x = keras.layers.Conv2D(filters=channel, kernel_size=kernel_size, padding='same', activation=None, strides=strides, \n",
    "                        kernel_initializer='he_normal', name=f'stage{int(block_num+2)}_{int(cnn_num+1)}_conv{i}')(x)\n",
    "    x = keras.layers.BatchNormalization(name=f'stage{block_num+2}_{cnn_num+1}_bn{i}')(x)\n",
    "    return x"
   ]
  },
  {
   "cell_type": "code",
   "execution_count": null,
   "id": "chronic-shannon",
   "metadata": {},
   "outputs": [],
   "source": [
    "def convolutional_block(input_layer, num_cnn, channel, block_num, is_50):\n",
    "    x = input_layer\n",
    "    ## ResNet34\n",
    "    if is_50==False:\n",
    "        kernel_size=(3,3)\n",
    "        for i, cnn_num in enumerate(range(num_cnn)):\n",
    "            skipconnection= x\n",
    "            if i==0 and block_num>0:\n",
    "                skipconnection= keras.layers.Conv2D(channel, (1, 1), strides=(2,2), use_bias=False, kernel_initializer='he_normal')(x)\n",
    "                x = conv_layer(x, channel, kernel_size, block_num, cnn_num, 1, strides=2)\n",
    "            else:\n",
    "                x = conv_layer(x, channel, kernel_size, block_num, cnn_num, 1, strides=1)\n",
    "\n",
    "            x = keras.layers.Activation('relu')(x)\n",
    "\n",
    "            x = conv_layer(x, channel, kernel_size, block_num, cnn_num, 2, strides=1)\n",
    "            x = keras.layers.Add(name=f'stage{block_num+2}_{cnn_num+1}_add')([x, skipconnection])\n",
    "            x = keras.layers.Activation('relu')(x)\n",
    "\n",
    "    ## ResNet50\n",
    "    elif is_50==True:\n",
    "        for i, cnn_num in enumerate(range(num_cnn)):\n",
    "            skipconnection= x\n",
    "            if i==0 and block_num==0:\n",
    "                skipconnection= keras.layers.Conv2D(channel*4, (1, 1), strides=1, use_bias=False, kernel_initializer='he_normal')(x)\n",
    "                x = conv_layer(x, channel, (1,1), block_num, cnn_num, 1, strides=1)\n",
    "            elif i==0 and block_num>0:\n",
    "                skipconnection= keras.layers.Conv2D(channel*4, (1, 1), strides=2, use_bias=False, kernel_initializer='he_normal')(x)\n",
    "                x = conv_layer(x, channel, (1,1), block_num, cnn_num, 1, strides=2)\n",
    "            elif i==1:\n",
    "                x = conv_layer(x, channel, (1,1), block_num, cnn_num, 1, strides=1)\n",
    "            elif i==2:\n",
    "                x = conv_layer(x, channel*4, (1,1), block_num, cnn_num, 1, strides=1)\n",
    "\n",
    "            x = keras.layers.Activation('relu')(x)\n",
    "\n",
    "            x = conv_layer(x, channel, (3,3), block_num, cnn_num, 2, strides=1)\n",
    "            x = keras.layers.Activation('relu')(x)\n",
    "            \n",
    "            x = conv_layer(x, (channel*4), (1,1), block_num, cnn_num, 9, strides=1)\n",
    "            x = keras.layers.Add(name=f'stage{block_num+2}_{cnn_num+1}_add')([x, skipconnection])\n",
    "            x = keras.layers.Activation('relu')(x)      \n",
    "    return x"
   ]
  },
  {
   "cell_type": "code",
   "execution_count": null,
   "id": "elect-record",
   "metadata": {},
   "outputs": [],
   "source": [
    "def build_resnet(input_layer, is_50):\n",
    "    num_cnn_list=[3, 4, 6, 3]\n",
    "    channel_list=[64,128, 256, 512]\n",
    "    x= input_layer\n",
    "    \n",
    "    #CONV1\n",
    "    x = keras.layers.Conv2D(filters=64, kernel_size=(7,7), strides=2, padding='same', name=f'conv1')(x)\n",
    "    x = keras.layers.BatchNormalization()(x)\n",
    "    x = keras.layers.Activation('relu')(x)\n",
    "    x = keras.layers.MaxPooling2D(pool_size=(3,3), padding='same', strides=2, name=f'initial_maxpooling')(x)\n",
    "    \n",
    "    for i, (num_cnn, channel) in enumerate(zip(num_cnn_list, channel_list)):\n",
    "        x = convolutional_block(x, num_cnn, channel, i, is_50)\n",
    "    \n",
    "    x = keras.layers.AveragePooling2D(pool_size=(1,1), strides=None, padding='same', data_format=None,name='avg_pool')(x)\n",
    "    x= keras.layers.Flatten()(x)\n",
    "    x = keras.layers.Dense(1, activation='softmax', name='fc1000')(x)\n",
    "    model= keras.Model(inputs= input_layer, outputs=x)\n",
    "    return model\n"
   ]
  },
  {
   "cell_type": "markdown",
   "id": "increasing-daisy",
   "metadata": {},
   "source": [
    "## ResNet-34"
   ]
  },
  {
   "cell_type": "code",
   "execution_count": null,
   "id": "infrared-fireplace",
   "metadata": {},
   "outputs": [],
   "source": [
    "input_shape=(32, 32,3)\n",
    "input_layer = keras.layers.Input(shape=input_shape, name='input')  # input layer를 만들어둡니다.\n",
    "\n",
    "resnet_34 = build_resnet(input_layer, is_50=False)\n",
    "resnet_34.summary()"
   ]
  },
  {
   "cell_type": "markdown",
   "id": "express-franklin",
   "metadata": {},
   "source": [
    "## ResNet-50"
   ]
  },
  {
   "cell_type": "code",
   "execution_count": null,
   "id": "transsexual-midnight",
   "metadata": {},
   "outputs": [],
   "source": [
    "input_shape=(32, 32,3)\n",
    "input_layer = keras.layers.Input(shape=input_shape, name='input')  # input layer를 만들어둡니다.\n",
    "\n",
    "resnet_50 = build_resnet(input_layer, is_50=True)\n",
    "resnet_50.summary()"
   ]
  },
  {
   "cell_type": "markdown",
   "id": "comprehensive-tiger",
   "metadata": {},
   "source": [
    "# TRAINING"
   ]
  },
  {
   "cell_type": "code",
   "execution_count": null,
   "id": "military-mining",
   "metadata": {},
   "outputs": [],
   "source": [
    "BATCH_SIZE = 32\n",
    "EPOCH = 20"
   ]
  },
  {
   "cell_type": "code",
   "execution_count": null,
   "id": "altered-sharp",
   "metadata": {},
   "outputs": [],
   "source": [
    "ds_train_ = apply_normalize_on_dataset(ds_train, batch_size=BATCH_SIZE)\n",
    "ds_test_ = apply_normalize_on_dataset(ds_test, batch_size=BATCH_SIZE)"
   ]
  },
  {
   "cell_type": "code",
   "execution_count": null,
   "id": "olive-release",
   "metadata": {
    "scrolled": false
   },
   "outputs": [],
   "source": [
    "resnet_34.compile(\n",
    "    loss='binary_crossentropy',\n",
    "    optimizer=tf.keras.optimizers.Adam(lr=0.001),\n",
    "    metrics=tf.keras.metrics.Accuracy(name='accuracy', dtype=None),\n",
    ")\n",
    "\n",
    "history_resnet_34 = resnet_34.fit(\n",
    "    ds_train_,\n",
    "    steps_per_epoch=int(ds_info.splits['train[:80%]'].num_examples/BATCH_SIZE),\n",
    "    validation_steps=int(ds_info.splits['train[80%:]'].num_examples/BATCH_SIZE),\n",
    "    epochs=EPOCH,\n",
    "    validation_data=ds_test_,\n",
    "    verbose=1,\n",
    "    use_multiprocessing=True,\n",
    ")"
   ]
  },
  {
   "cell_type": "code",
   "execution_count": null,
   "id": "negative-organic",
   "metadata": {},
   "outputs": [],
   "source": [
    "import pandas as pd"
   ]
  },
  {
   "cell_type": "code",
   "execution_count": null,
   "id": "swiss-holocaust",
   "metadata": {},
   "outputs": [],
   "source": [
    "df_resnet_34 = pd.DataFrame({\n",
    "    'train_loss': history_resnet_34.history['loss'],\n",
    "    'val_acc': history_resnet_34.history['val_accuracy']\n",
    "    })\n",
    "df_resnet_34.to_csv('./history_resnet_34.csv', index=False)"
   ]
  },
  {
   "cell_type": "code",
   "execution_count": null,
   "id": "aerial-rings",
   "metadata": {
    "scrolled": false
   },
   "outputs": [],
   "source": [
    "resnet_50.compile(\n",
    "#     loss='sparse_categorical_crossentropy',\n",
    "#     optimizer=tf.keras.optimizers.SGD(lr=0.01, clipnorm=1.),\n",
    "    loss='binary_crossentropy',\n",
    "    optimizer=tf.keras.optimizers.Adam(lr=0.001),\n",
    "    metrics=tf.keras.metrics.Accuracy(name='accuracy', dtype=None),\n",
    ")\n",
    "\n",
    "history_resnet_50 = resnet_50.fit(\n",
    "    ds_train_,\n",
    "    steps_per_epoch=np.ceil(ds_info.splits['train[:80%]'].num_examples),#/BATCH_SIZE),\n",
    "    validation_steps=np.ceil(ds_info.splits['train[80%:]'].num_examples),#/BATCH_SIZE),\n",
    "    epochs=EPOCH,\n",
    "    validation_data=ds_test_,\n",
    "    verbose=1,\n",
    "    use_multiprocessing=True,\n",
    ")"
   ]
  },
  {
   "cell_type": "code",
   "execution_count": null,
   "id": "returning-funds",
   "metadata": {},
   "outputs": [],
   "source": [
    "df_resnet_50 = pd.DataFrame({\n",
    "    'train_loss': history_resnet_50.history['loss'],\n",
    "    'val_acc': history_resnet_50.history['val_accuracy']\n",
    "    })\n",
    "df_resnet_50.to_csv('./history_resnet_34.csv', index=False)"
   ]
  },
  {
   "cell_type": "markdown",
   "id": "modern-respect",
   "metadata": {},
   "source": [
    "## data shape= (224, 224, 3)"
   ]
  },
  {
   "cell_type": "code",
   "execution_count": null,
   "id": "static-melissa",
   "metadata": {},
   "outputs": [],
   "source": [
    "def normalize_and_resize_img(image, label):\n",
    "    \"\"\"Normalizes images: `uint8` -> `float32`.\"\"\"\n",
    "    image = tf.image.resize(image, [224, 224])\n",
    "    return tf.cast(image, tf.float32) / 255., label"
   ]
  },
  {
   "cell_type": "code",
   "execution_count": null,
   "id": "hired-width",
   "metadata": {},
   "outputs": [],
   "source": [
    "input_shape=(224, 224,3)\n",
    "input_layer = keras.layers.Input(shape=input_shape, name='input')  # input layer를 만들어둡니다.\n",
    "\n",
    "resnet_34 = build_resnet(input_layer, is_50=False)\n",
    "resnet_34.summary()"
   ]
  },
  {
   "cell_type": "code",
   "execution_count": null,
   "id": "utility-testimony",
   "metadata": {},
   "outputs": [],
   "source": [
    "input_shape=(224, 224,3)\n",
    "input_layer = keras.layers.Input(shape=input_shape, name='input')  # input layer를 만들어둡니다.\n",
    "\n",
    "resnet_50 = build_resnet(input_layer, is_50=True)\n",
    "resnet_50.summary()"
   ]
  },
  {
   "cell_type": "code",
   "execution_count": null,
   "id": "loving-fundamentals",
   "metadata": {},
   "outputs": [],
   "source": [
    "BATCH_SIZE = 128\n",
    "EPOCH = 20"
   ]
  },
  {
   "cell_type": "code",
   "execution_count": null,
   "id": "impossible-shadow",
   "metadata": {},
   "outputs": [],
   "source": [
    "ds_train_ = apply_normalize_on_dataset(ds_train, is_test, batch_size=BATCH_SIZE)\n",
    "ds_test_ = apply_normalize_on_dataset(ds_test, is_test, batch_size=BATCH_SIZE)"
   ]
  },
  {
   "cell_type": "code",
   "execution_count": null,
   "id": "middle-smell",
   "metadata": {},
   "outputs": [],
   "source": [
    "ds_info.splits['train[:80%]'].num_examples"
   ]
  },
  {
   "cell_type": "code",
   "execution_count": null,
   "id": "differential-capital",
   "metadata": {},
   "outputs": [],
   "source": [
    "int(ds_info.splits['train[:80%]'].num_examples/BATCH_SIZE)"
   ]
  },
  {
   "cell_type": "code",
   "execution_count": null,
   "id": "related-trademark",
   "metadata": {},
   "outputs": [],
   "source": [
    "int(ds_info.splits['train[80%:]'].num_examples/BATCH_SIZE)"
   ]
  },
  {
   "cell_type": "code",
   "execution_count": null,
   "id": "elder-supervisor",
   "metadata": {
    "scrolled": false
   },
   "outputs": [],
   "source": [
    "resnet_34.compile(\n",
    "    loss='binary_crossentropy',\n",
    "    optimizer=\"adam\", # tf.keras.optimizers.Adam(lr=0.001),\n",
    "    metrics=['accuracy'],\n",
    ")\n",
    "\n",
    "history_resnet_34_224 = resnet_34.fit(\n",
    "    ds_train_,\n",
    "    steps_per_epoch=int(ds_info.splits['train[:80%]'].num_examples/BATCH_SIZE),\n",
    "    validation_steps=int(ds_info.splits['train[80%:]'].num_examples/BATCH_SIZE),\n",
    "    epochs=EPOCH,\n",
    "    validation_data=ds_test_,\n",
    "    verbose=1,\n",
    "    use_multiprocessing=True,\n",
    ")"
   ]
  },
  {
   "cell_type": "code",
   "execution_count": null,
   "id": "metropolitan-report",
   "metadata": {},
   "outputs": [],
   "source": [
    "df_resnet_34_224 = pd.DataFrame({\n",
    "    'train_loss': history_resnet_34_224.history['loss'],\n",
    "    'val_acc': history_resnet_34_224.history['val_accuracy']\n",
    "    })\n",
    "df_resnet_34_224.to_csv('./history_resnet_34_224.csv', index=False)"
   ]
  },
  {
   "cell_type": "code",
   "execution_count": null,
   "id": "exterior-subdivision",
   "metadata": {},
   "outputs": [],
   "source": [
    "resnet_50.compile(\n",
    "#     loss='sparse_categorical_crossentropy',\n",
    "#     optimizer=tf.keras.optimizers.SGD(lr=0.01, clipnorm=1.),\n",
    "    loss='binary_crossentropy',\n",
    "    optimizer=tf.keras.optimizers.Adam(lr=0.001),\n",
    "    metrics=['accuracy'],\n",
    ")\n",
    "\n",
    "history_resnet_50_224 = resnet_50.fit(\n",
    "    ds_train_,\n",
    "    steps_per_epoch=int(ds_info.splits['train[:80%]'].num_examples/BATCH_SIZE),\n",
    "    validation_steps=int(ds_info.splits['train[80%:]'].num_examples/BATCH_SIZE),\n",
    "    epochs=EPOCH,\n",
    "    validation_data=ds_test_,\n",
    "    verbose=1,\n",
    "    use_multiprocessing=True,\n",
    ")"
   ]
  },
  {
   "cell_type": "code",
   "execution_count": null,
   "id": "utility-colorado",
   "metadata": {},
   "outputs": [],
   "source": [
    "df_resnet_50_224 = pd.DataFrame({\n",
    "    'train_loss': history_resnet_50_224.history['loss'],\n",
    "    'val_acc': history_resnet_50_224.history['val_accuracy']\n",
    "    })\n",
    "df_resnet_50_224.to_csv('./history_resnet_34_224.csv', index=False)"
   ]
  },
  {
   "cell_type": "code",
   "execution_count": null,
   "id": "dated-plenty",
   "metadata": {},
   "outputs": [],
   "source": []
  }
 ],
 "metadata": {
  "kernelspec": {
   "display_name": "Python 3",
   "language": "python",
   "name": "python3"
  },
  "language_info": {
   "codemirror_mode": {
    "name": "ipython",
    "version": 3
   },
   "file_extension": ".py",
   "mimetype": "text/x-python",
   "name": "python",
   "nbconvert_exporter": "python",
   "pygments_lexer": "ipython3",
   "version": "3.7.9"
  }
 },
 "nbformat": 4,
 "nbformat_minor": 5
}
